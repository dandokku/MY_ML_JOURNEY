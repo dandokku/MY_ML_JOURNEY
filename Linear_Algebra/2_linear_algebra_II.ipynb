{
 "cells": [
  {
   "cell_type": "markdown",
   "metadata": {},
   "source": [
    "TABLE OF CONTENTS\n",
    "\n",
    "- [Eigendecomposition](#eigendecomposition)\n",
    "    - [Applying Matrices](#applying-matrices)\n",
    "    - [Affine Transformation](#affine-transformations)\n",
    "    - [Eigenvectors](#eigenvectors)\n",
    "    - [Eigenvalues](#eigenvalues)\n",
    "    - [Matrix Determinants](#matrix-determinants)\n",
    "    - [Matrix Decompostion](#matrix-decomposition)\n",
    "    - [Applications of Eigendecomposition](#applications-of-eigendecomposition)\n",
    "- [Matrix Operations](#matrix-operations)\n",
    "    - [Singular Value Decomposition](#singular-value-decomposition)\n",
    "        - [Image Compression with SVD](#image-compression-with-svd)\n",
    "    - [Moore-Penrose Pseudoinverse](#moore-penrose-pseudoinverse)\n",
    "    - [The Trace Operator](#the-trace-operator)\n",
    "    - [Principal Components Analysis](#principal-component-analysis)"
   ]
  },
  {
   "cell_type": "markdown",
   "metadata": {},
   "source": [
    "# Eigendecomposition"
   ]
  },
  {
   "cell_type": "markdown",
   "metadata": {},
   "source": [
    "## Applying Matrices\n",
    "\n",
    "\"most things done here were with pencil on paper\"\n",
    "proceed to next topic...."
   ]
  },
  {
   "cell_type": "markdown",
   "metadata": {},
   "source": [
    "## Affine Transformations\n",
    "\n",
    "Applying a flipping matrix is an example of an affine transformation; a change in geometry that may adjust distances or angles between vectors but preserves parallelism between them.\n",
    "\n",
    "In addition to flipping a matrix over an axle (aka reflection), other common affine transformations include: \n",
    "\n",
    "    - Scaling (changing the length of vectors)\n",
    "    - Shearing (example of this on the mona lisa)\n",
    "    - Rotation\n",
    "\n",
    "\n"
   ]
  },
  {
   "cell_type": "markdown",
   "metadata": {},
   "source": [
    "## Eigenvectors\n",
    "\n",
    "An eigenvector is a special vector v such that when it is transformed  by some matrix(lets say B), the product has the exact same direction as v\n",
    "\n",
    "An eigenvalue is a scales the eigenvector such that the following is satisfied:\n",
    "\n",
    "$B_v = A_v$"
   ]
  },
  {
   "cell_type": "markdown",
   "metadata": {},
   "source": [
    "Eigenvectors and eigenvalues can be derived algebraically (e.g., with the [QR algorithm](https://en.wikipedia.org/wiki/QR_algorithm), which was independently developed in the 1950s by both [Vera Kublanovskaya](https://en.wikipedia.org/wiki/Vera_Kublanovskaya) and John Francis). We'll cheat with NumPy `eig()` method, which returns a tuple of: \n",
    "\n",
    "* a vector of eigenvalues\n",
    "* a matrix of eigenvectors"
   ]
  },
  {
   "cell_type": "markdown",
   "metadata": {},
   "source": [
    "## Eigenvalues"
   ]
  },
  {
   "cell_type": "markdown",
   "metadata": {},
   "source": [
    "## Matrix Determinants\n",
    "\n",
    "- Map square matrix to scalar\n",
    "- Helps to determine whether a matrix can be inverted\n",
    "\n",
    "\n",
    "For matrix X, denoted as det(X)\n",
    "\n",
    "    - If det(X) = 0\n",
    "        - Matrix $X^-1$ has 1/det(X) = 1/0\n",
    "        - Matrix X is singular; It contains linearly-dependent columns\n",
    "\n",
    "    - det(X) is easiest to calculate for 2x2 matrix"
   ]
  },
  {
   "cell_type": "markdown",
   "metadata": {},
   "source": [
    "## Matrix Decomposition\n",
    "\n",
    "The decomposition of a matrix into eigenvectors and eigenvalues reveals characteristics of the matrix, e.g:\n",
    "\n",
    "    - Matrix is singular if and only if any of its eigenvalues are zero\n",
    "    - Under specific conditions, can optimize quadratic expressions: \n",
    "        - Maximum of f(x) = largest eigenvalue\n",
    "        - Minimum of f(x) = smallest eigenvalue"
   ]
  },
  {
   "cell_type": "markdown",
   "metadata": {},
   "source": [
    "## Applications of Eigendecomposition\n",
    "\n",
    "- Eigenvectors:\n",
    "    - Eigenfaces\n",
    "    - Eigenvoices\n",
    "    - Eigenfrequencies\n",
    "\n",
    "- Quantum mechanics:\n",
    "    - Molecular orbitals\n",
    "    - Schrodinger wave equation\n",
    "- Reproduction number $R_0$ in epidemiology\n",
    "- Calculating determinants\n",
    "- SVD and Moore-Penrose pseudoinverse\n",
    "- Principal component analysis\n"
   ]
  },
  {
   "cell_type": "markdown",
   "metadata": {},
   "source": [
    "# Matrix Operations"
   ]
  },
  {
   "cell_type": "markdown",
   "metadata": {},
   "source": [
    "## Singular Value Decomposition\n",
    "\n",
    "The singular value decomposition of a matrix A is the factorization of A into the\n",
    "product of three matrices A = $UDV^T$ where the columns of U and V are orthonormal and\n",
    "the matrix D is diagonal with positive real entries. \n",
    "\n",
    "\n",
    "- Unlike eigendecomposition, which is applicable to square matrices only, SVD is applicable to any real-valued matrix\n",
    "\n",
    "- Decomposes matrix into: \n",
    "    - Singular vectors (analogous to eigenvectors)\n",
    "    - Singular values (analogous to eigenvalues)"
   ]
  },
  {
   "cell_type": "markdown",
   "metadata": {},
   "source": [
    "### Image Compression with SVD"
   ]
  },
  {
   "cell_type": "code",
   "execution_count": 1,
   "metadata": {},
   "outputs": [],
   "source": [
    "from PIL import Image"
   ]
  },
  {
   "cell_type": "code",
   "execution_count": 7,
   "metadata": {},
   "outputs": [
    {
     "name": "stderr",
     "output_type": "stream",
     "text": [
      "'wget' is not recognized as an internal or external command,\n",
      "operable program or batch file.\n"
     ]
    }
   ],
   "source": [
    "! wget https://raw.githubusercontent.com/jonkrohn/DLTFpT/master/notebooks/oboe-with-book.jpg"
   ]
  },
  {
   "cell_type": "markdown",
   "metadata": {},
   "source": [
    "## Moore-Penrose Pseudoinverse\n",
    "\n",
    "- Such an \"other mean\" when matrix can't be inverted\n",
    "- For some matrix A, its pseudoinverse $A^+$ can be calculated by:\n",
    "    $A^+ = VD^+U^T$\n",
    "\n",
    "    Where:\n",
    "        \n",
    "        - U, D, and V are SVD of A\n",
    "        - $D^+$ = $(D with reciprocal of all-non zero elements)^T$\n"
   ]
  },
  {
   "cell_type": "markdown",
   "metadata": {},
   "source": [
    "## The Trace Operator\n",
    "\n",
    "The trace operator has a number of useful properties that come in handy while rearranging linear algebra equations, e.g:\n",
    "\n",
    "    - $Tr(A) = Tr(A^T)$\n",
    "    - Assuming the matrix shapes line up: Tr(ABC) = Tr(CAB) = Tr(BCA)\n",
    "\n",
    "In particular, the trace operator can provide a convienent way to calculate a matrix's Frobenius norm"
   ]
  },
  {
   "cell_type": "markdown",
   "metadata": {},
   "source": [
    "## Principal Component Analysis \n",
    "\n",
    "- Simple machine learning algorithm\n",
    "- Unsupervised: enables identification of structure in unlabeled data\n",
    "- Like eigendecomposition and SVD, enables lossy compression\n",
    "    - To minimize both loss of precision and data footprint, first principal component contains most variance (Data structure), second PC contains next most, and so on\n",
    "- Involves many linear algebra concepts already covered, e.g:\n",
    "    - Norms\n",
    "    - Orthogonal and Identity Matrices\n",
    "    - Trace operator"
   ]
  }
 ],
 "metadata": {
  "kernelspec": {
   "display_name": "Python 3",
   "language": "python",
   "name": "python3"
  },
  "language_info": {
   "codemirror_mode": {
    "name": "ipython",
    "version": 3
   },
   "file_extension": ".py",
   "mimetype": "text/x-python",
   "name": "python",
   "nbconvert_exporter": "python",
   "pygments_lexer": "ipython3",
   "version": "3.9.0"
  }
 },
 "nbformat": 4,
 "nbformat_minor": 2
}
