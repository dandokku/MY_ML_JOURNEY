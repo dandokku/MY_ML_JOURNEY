{
 "cells": [
  {
   "cell_type": "markdown",
   "metadata": {},
   "source": [
    "TABLE OF CONTENTS\n",
    "\n",
    "- [Eigendecomposition](#eigendecomposition)\n",
    "    - [Applying Matrices](#applying-matrices)\n",
    "    - [Affine Transformation](#affine-transformations)\n",
    "    - [Eigenvectors](#eigenvectors)\n",
    "    - [Eigenvalues](#eigenvalues)\n",
    "    - [Matrix Determinants](#matrix-determinants)\n",
    "    - [Matrix Decompostion](#matrix-decomposition)\n",
    "    - [Applications of Eigendecomposition](#applications-of-eigendecomposition)"
   ]
  },
  {
   "cell_type": "markdown",
   "metadata": {},
   "source": [
    "# Eigendecomposition"
   ]
  },
  {
   "cell_type": "markdown",
   "metadata": {},
   "source": [
    "## Applying Matrices\n",
    "\n",
    "\"most things done here were with pencil on paper\"\n",
    "proceed to next topic...."
   ]
  },
  {
   "cell_type": "markdown",
   "metadata": {},
   "source": [
    "## Affine Transformations\n",
    "\n",
    "Applying a flipping matrix is an example of an affine transformation; a change in geometry that may adjust distances or angles between vectors but preserves parallelism between them.\n",
    "\n",
    "In addition to flipping a matrix over an axle (aka reflection), other common affine transformations include: \n",
    "\n",
    "    - Scaling (changing the length of vectors)\n",
    "    - Shearing (example of this on the mona lisa)\n",
    "    - Rotation\n",
    "\n",
    "\n"
   ]
  },
  {
   "cell_type": "markdown",
   "metadata": {},
   "source": [
    "## Eigenvectors\n",
    "\n",
    "An eigenvector is a special vector v such that when it is transformed  by some matrix(lets say B), the product has the exact same direction as v\n",
    "\n",
    "An eigenvalue is a scales the eigenvector such that the following is satisfied:\n",
    "\n",
    "$B_v = A_v$"
   ]
  },
  {
   "cell_type": "markdown",
   "metadata": {},
   "source": [
    "Eigenvectors and eigenvalues can be derived algebraically (e.g., with the [QR algorithm](https://en.wikipedia.org/wiki/QR_algorithm), which was independently developed in the 1950s by both [Vera Kublanovskaya](https://en.wikipedia.org/wiki/Vera_Kublanovskaya) and John Francis). We'll cheat with NumPy `eig()` method, which returns a tuple of: \n",
    "\n",
    "* a vector of eigenvalues\n",
    "* a matrix of eigenvectors"
   ]
  },
  {
   "cell_type": "markdown",
   "metadata": {},
   "source": [
    "## Eigenvalues"
   ]
  },
  {
   "cell_type": "markdown",
   "metadata": {},
   "source": [
    "## Matrix Determinants"
   ]
  },
  {
   "cell_type": "markdown",
   "metadata": {},
   "source": [
    "## Matrix Decomposition"
   ]
  },
  {
   "cell_type": "markdown",
   "metadata": {},
   "source": [
    "## Applications of Eigendecomposition"
   ]
  }
 ],
 "metadata": {
  "language_info": {
   "name": "python"
  }
 },
 "nbformat": 4,
 "nbformat_minor": 2
}
