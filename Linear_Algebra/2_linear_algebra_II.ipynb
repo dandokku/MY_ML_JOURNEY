{
 "cells": [
  {
   "cell_type": "markdown",
   "metadata": {},
   "source": [
    "TABLE OF CONTENTS\n",
    "\n",
    "- [Eigendecomposition](#eigendecomposition)\n",
    "    - [Applying Matrices](#applying-matrices)\n",
    "    - [Affine Transformation](#affine-transformations)\n",
    "    - [Eigenvectors](#eigenvectors)\n",
    "    - [Eigenvalues](#eigenvalues)\n",
    "    - [Matrix Determinants](#matrix-determinants)\n",
    "    - [Matrix Decompostion](#matrix-decomposition)\n",
    "    - [Applications of Eigendecomposition](#applications-of-eigendecomposition)"
   ]
  },
  {
   "cell_type": "markdown",
   "metadata": {},
   "source": [
    "# Eigendecomposition"
   ]
  },
  {
   "cell_type": "markdown",
   "metadata": {},
   "source": [
    "## Applying Matrices\n",
    "\n",
    "\"most things done here were with pencil on paper\"\n",
    "proceed to next topic...."
   ]
  },
  {
   "cell_type": "markdown",
   "metadata": {},
   "source": [
    "## Affine Transformations\n",
    "\n",
    "Applying a flipping matrix is an example of an affine transformation; a change in geometry that may adjust distances or angles between vectors but preserves parallelism between them.\n",
    "\n",
    "In addition to flipping a matrix over an axle (aka reflection), other common affine transformations include: \n",
    "\n",
    "    - Scaling (changing the length of vectors)\n",
    "    - Shearing (example of this on the mona lisa)\n",
    "    - Rotation\n",
    "\n",
    "\n"
   ]
  },
  {
   "cell_type": "markdown",
   "metadata": {},
   "source": [
    "## Eigenvectors\n",
    "\n",
    "An eigenvector is a special vector v such that when it is transformed  by some matrix(lets say B), the product has the exact same direction as v\n",
    "\n",
    "An eigenvalue is a scales the eigenvector such that the following is satisfied:\n",
    "\n",
    "$B_v = A_v$"
   ]
  },
  {
   "cell_type": "markdown",
   "metadata": {},
   "source": [
    "Eigenvectors and eigenvalues can be derived algebraically (e.g., with the [QR algorithm](https://en.wikipedia.org/wiki/QR_algorithm), which was independently developed in the 1950s by both [Vera Kublanovskaya](https://en.wikipedia.org/wiki/Vera_Kublanovskaya) and John Francis). We'll cheat with NumPy `eig()` method, which returns a tuple of: \n",
    "\n",
    "* a vector of eigenvalues\n",
    "* a matrix of eigenvectors"
   ]
  },
  {
   "cell_type": "markdown",
   "metadata": {},
   "source": [
    "## Eigenvalues"
   ]
  },
  {
   "cell_type": "markdown",
   "metadata": {},
   "source": [
    "## Matrix Determinants\n",
    "\n",
    "- Map square matrix to scalar\n",
    "- Helps to determine whether a matrix can be inverted\n",
    "\n",
    "\n",
    "For matrix X, denoted as det(X)\n",
    "\n",
    "    - If det(X) = 0\n",
    "        - Matrix $X^-1$ has 1/det(X) = 1/0\n",
    "        - Matrix X is singular; It contains linearly-dependent columns\n",
    "\n",
    "    - det(X) is easiest to calculate for 2x2 matrix"
   ]
  },
  {
   "cell_type": "markdown",
   "metadata": {},
   "source": [
    "## Matrix Decomposition\n",
    "\n",
    "The decomposition of a matrix into eigenvectors and eigenvalues reveals characteristics of the matrix, e.g:\n",
    "\n",
    "    - Matrix is singular if and only if any of its eigenvalues are zero\n",
    "    - Under specific conditions, can optimize quadratic expressions: \n",
    "        - Maximum of f(x) = largest eigenvalue\n",
    "        - Minimum of f(x) = smallest eigenvalue"
   ]
  },
  {
   "cell_type": "markdown",
   "metadata": {},
   "source": [
    "## Applications of Eigendecomposition\n",
    "\n",
    "- Eigenvectors:\n",
    "    - Eigenfaces\n",
    "    - Eigenvoices\n",
    "    - Eigenfrequencies\n",
    "\n",
    "- Quantum mechanics:\n",
    "    - Molecular orbitals\n",
    "    - Schrodinger wave equation\n",
    "- Reproduction number $R_0$ in epidemiology\n",
    "- Calculating determinants\n",
    "- SVD and Moore-Penrose pseudoinverse\n",
    "- Principal component analysis\n"
   ]
  }
 ],
 "metadata": {
  "language_info": {
   "name": "python"
  }
 },
 "nbformat": 4,
 "nbformat_minor": 2
}
