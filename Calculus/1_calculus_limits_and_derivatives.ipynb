{
 "cells": [
  {
   "cell_type": "markdown",
   "metadata": {},
   "source": [
    "# Table of Contents\n",
    "\n",
    "- [Intro to Calculus](#intro-to-calculus)\n"
   ]
  },
  {
   "cell_type": "markdown",
   "metadata": {},
   "source": [
    "# Intro to Calculus\n",
    "\n",
    "Calculus is the mathematical study of continous change and accumulation of quantities.\n",
    "\n",
    "- Differential Calculus focuses on the rate of change and slopes of curves.\n",
    "- Integral Calculus focuses on the accumulation and areas under curves"
   ]
  }
 ],
 "metadata": {
  "language_info": {
   "name": "python"
  }
 },
 "nbformat": 4,
 "nbformat_minor": 2
}
