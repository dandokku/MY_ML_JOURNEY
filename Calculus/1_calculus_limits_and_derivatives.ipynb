{
 "cells": [
  {
   "cell_type": "markdown",
   "metadata": {},
   "source": [
    "# Table of Contents\n",
    "\n",
    "- [Intro to Calculus](#intro-to-calculus)\n",
    "    - [A Brief History of Calculus](#brief-history-of-calculus)\n",
    "    - [The Method of Exhaustion](#the-method-of-exhaustion)\n"
   ]
  },
  {
   "cell_type": "markdown",
   "metadata": {},
   "source": [
    "# Intro to Calculus\n",
    "\n",
    "Calculus is the mathematical study of continous change and accumulation of quantities.\n",
    "\n",
    "- Differential Calculus focuses on the rate of change and slopes of curves.\n",
    "- Integral Calculus focuses on the accumulation and areas under curves"
   ]
  },
  {
   "cell_type": "markdown",
   "metadata": {},
   "source": [
    "## Brief History of Calculus\n",
    "\n",
    "- 1800 BCE: Egyptian papyrus with area calculations\n",
    "- Method of exhaustion\n",
    "    - Greeks Eudoxus and Archimedes (259 BCE)\n",
    "    - Independently by Chinese Liu Hui (250 CE)\n",
    "- Arab al-Haytham (11th c. CE) used integrals to calculate volumes\n",
    "- Indians (14th c.) had differentiation-like methods\n",
    "- 17th c.: Gottfried Leibniz and Issac Newton\n",
    "    - Independently developed modern calculus\n",
    "    - Incl. higher-order differentiation and integration\n",
    "    - Incl. rules like \"product rule\" and \"chain rule\" \n",
    "    - Leibniz named it and devised notation (which we mostly use today)\n",
    "    - Newton applied it first to physics, e,g:\n",
    "        - Laws of motion\n",
    "        - Gravity"
   ]
  },
  {
   "cell_type": "markdown",
   "metadata": {},
   "source": [
    "## The method of Exhaustion\n",
    "\n",
    "Polygon: a shape with multiple straight sides(3+, mostly 5+)\n",
    "    - Greeks learned to find area by filling with triangles, you can also used the same method to find the area of curved shapes"
   ]
  }
 ],
 "metadata": {
  "language_info": {
   "name": "python"
  }
 },
 "nbformat": 4,
 "nbformat_minor": 2
}
